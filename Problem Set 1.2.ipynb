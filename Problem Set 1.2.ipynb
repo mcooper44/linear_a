{
 "cells": [
  {
   "cell_type": "code",
   "execution_count": 5,
   "id": "9a97014f",
   "metadata": {},
   "outputs": [],
   "source": [
    "import numpy as np\n",
    "import matplotlib.pyplot as plt"
   ]
  },
  {
   "cell_type": "markdown",
   "id": "9dc7dc82",
   "metadata": {},
   "source": [
    "1. calculate the dot products of \n",
    "$$ u \\cdot v \\ and \\ u \\cdot w \\ and \\ u \\cdot (v + w) \\ and \\ w \\cdot v $$"
   ]
  },
  {
   "cell_type": "code",
   "execution_count": 6,
   "id": "3ae8b901",
   "metadata": {},
   "outputs": [],
   "source": [
    "u = np.array([-0.6,0.8])\n",
    "v = np.array([4,3])\n",
    "w = np.array([1,2])"
   ]
  },
  {
   "cell_type": "code",
   "execution_count": 7,
   "id": "b2e31f6b",
   "metadata": {},
   "outputs": [
    {
     "data": {
      "text/plain": [
       "(-2.4, 2.4)"
      ]
     },
     "execution_count": 7,
     "metadata": {},
     "output_type": "execute_result"
    }
   ],
   "source": [
    "x = -.6 * 4\n",
    "y = .8 * 3\n",
    "x,round(y,1)"
   ]
  },
  {
   "cell_type": "code",
   "execution_count": 8,
   "id": "8cbea881",
   "metadata": {},
   "outputs": [],
   "source": [
    "a = u.dot(v)\n",
    "b = u.dot(w)\n",
    "c = u.dot((v+w))\n",
    "d = w.dot(v)"
   ]
  },
  {
   "cell_type": "code",
   "execution_count": null,
   "id": "4f7ef816",
   "metadata": {},
   "outputs": [],
   "source": [
    "print(f'{round(a,1)}\\n{b}\\n{c}\\n{d}\\n')"
   ]
  },
  {
   "cell_type": "markdown",
   "id": "7ccb14b3",
   "metadata": {},
   "source": [
    "2. compute the lengths of u and v and w of those vectors.  Check the schwarz inequalites  \n",
    "$$ |u \\cdot v| \\leq \\parallel{u}\\parallel \\parallel{v}\\parallel \\ and \\ |v \\cdot w| \\leq \\parallel{v}\\parallel \\parallel{w}\\parallel $$"
   ]
  },
  {
   "cell_type": "code",
   "execution_count": 9,
   "id": "29832411",
   "metadata": {},
   "outputs": [
    {
     "data": {
      "text/plain": [
       "(5.0, 1.0, 2.23606797749979)"
      ]
     },
     "execution_count": 9,
     "metadata": {},
     "output_type": "execute_result"
    }
   ],
   "source": [
    "lu = np.linalg.norm(u)\n",
    "lv = np.linalg.norm(v)\n",
    "lw = np.linalg.norm(w)\n",
    "lv, lu, lw # norm of u = 5, v = 1 and w = 2.2"
   ]
  },
  {
   "cell_type": "code",
   "execution_count": 7,
   "id": "1d63aa38",
   "metadata": {},
   "outputs": [
    {
     "data": {
      "text/plain": [
       "(0.0, 5.0)"
      ]
     },
     "execution_count": 7,
     "metadata": {},
     "output_type": "execute_result"
    }
   ],
   "source": [
    "left = np.abs(u.dot(v))\n",
    "right = np.linalg.norm(u) * np.linalg.norm(v)\n",
    "round(left,1), right # dot product of u and v <= norm of u * norm of v or 0 <= 5 * 1"
   ]
  },
  {
   "cell_type": "code",
   "execution_count": null,
   "id": "d126525f",
   "metadata": {},
   "outputs": [],
   "source": [
    "left <= right"
   ]
  },
  {
   "cell_type": "code",
   "execution_count": null,
   "id": "6d3601c5",
   "metadata": {},
   "outputs": [],
   "source": [
    "left2 = v.dot(w)\n",
    "right2 = lv * lw\n",
    "left2, right2"
   ]
  },
  {
   "cell_type": "code",
   "execution_count": null,
   "id": "e4a26a1c",
   "metadata": {},
   "outputs": [],
   "source": [
    "left2 <= right2"
   ]
  },
  {
   "cell_type": "markdown",
   "id": "d9826678",
   "metadata": {},
   "source": [
    "3. Find unit vectors in the directions of v and w in Problem 1, and the cosine of the angle theta\n",
    "Choose vectors a, b, c that make 0, 90 and 180 degree angles with w."
   ]
  },
  {
   "cell_type": "code",
   "execution_count": 10,
   "id": "96bbbebb",
   "metadata": {},
   "outputs": [
    {
     "data": {
      "text/plain": [
       "(array([4, 3]), array([1, 2]))"
      ]
     },
     "execution_count": 10,
     "metadata": {},
     "output_type": "execute_result"
    }
   ],
   "source": [
    "v, w"
   ]
  },
  {
   "cell_type": "code",
   "execution_count": 11,
   "id": "493c343b",
   "metadata": {},
   "outputs": [
    {
     "data": {
      "text/plain": [
       "(array([0.8, 0.6]), array([0.4472136 , 0.89442719]))"
      ]
     },
     "execution_count": 11,
     "metadata": {},
     "output_type": "execute_result"
    }
   ],
   "source": [
    "v_unit = v / np.linalg.norm(v) # unit vector v\n",
    "w_unit = w / np.linalg.norm(w) # unit vector w\n",
    "v_unit, w_unit"
   ]
  },
  {
   "cell_type": "code",
   "execution_count": 10,
   "id": "f4184eee",
   "metadata": {},
   "outputs": [
    {
     "data": {
      "text/plain": [
       "0.8944271909999157"
      ]
     },
     "execution_count": 10,
     "metadata": {},
     "output_type": "execute_result"
    }
   ],
   "source": [
    "# cosine theta\n",
    "w_unit.dot(v_unit)"
   ]
  },
  {
   "cell_type": "code",
   "execution_count": 12,
   "id": "384bf40d",
   "metadata": {},
   "outputs": [
    {
     "data": {
      "text/plain": [
       "(0.0, 90.0, 180.0)"
      ]
     },
     "execution_count": 12,
     "metadata": {},
     "output_type": "execute_result"
    }
   ],
   "source": [
    "# choose vectors a, b, c that make a 0, 90, 180 degree angle with w\n",
    "\n",
    "vec_a = w # 0 degrees\n",
    "vec_b = np.array([2,-1]) # 90 degrees\n",
    "vec_c = w * -1 # 180 degrees\n",
    "angle_0 = np.arccos(np.clip(np.dot(w, vec_a), -1.0, 1.0))\n",
    "angle_90 = np.arccos(np.clip(np.dot(w, vec_b), -1.0, 1.0))\n",
    "angle_180 = np.arccos(np.clip(np.dot(w, vec_c), -1.0, 1.0))\n",
    "angle_0, np.rad2deg(angle_90), np.rad2deg(angle_180)"
   ]
  },
  {
   "cell_type": "code",
   "execution_count": 14,
   "id": "ffedae52",
   "metadata": {},
   "outputs": [
    {
     "data": {
      "image/png": "[encoded data removed]",
      "text/plain": [
       "<Figure size 640x480 with 1 Axes>"
      ]
     },
     "metadata": {},
     "output_type": "display_data"
    }
   ],
   "source": [
    "fig, ax = plt.subplots()\n",
    "# Add the vector V to the plot\n",
    "ax.quiver(0, 0, w[0], w[1], angles='xy', scale_units='xy', scale=1, color='r')\n",
    "ax.quiver(0, 0, vec_b[0], vec_b[1], angles='xy', scale_units='xy', scale=1, color='b')\n",
    "ax.quiver(0, 0, vec_c[0], vec_c[1], angles='xy', scale_units='xy', scale=1, color='g')\n",
    "\n",
    "# Set the x-limits and y-limits of the plot\n",
    "ax.set_xlim([-4, 4])\n",
    "ax.set_ylim([-4, 4])\n",
    "\n",
    "# Show the plot along with the grid\n",
    "plt.grid()\n",
    "plt.show()"
   ]
  },
  {
   "cell_type": "markdown",
   "id": "eef0d7fb",
   "metadata": {},
   "source": [
    "4. For any unit vectors v and w, find the dot products (actual numbers) of \n",
    "(a) v and -v     (b) v + w and v - w        (c)  v - 2w and v + 2w"
   ]
  },
  {
   "cell_type": "code",
   "execution_count": 22,
   "id": "018d580d",
   "metadata": {},
   "outputs": [
    {
     "data": {
      "text/plain": [
       "-1"
      ]
     },
     "execution_count": 22,
     "metadata": {},
     "output_type": "execute_result"
    }
   ],
   "source": [
    "# (a) v and -v\n",
    "unit_v = 1\n",
    "np.dot(unit_v, -unit_v)\n"
   ]
  },
  {
   "cell_type": "code",
   "execution_count": 23,
   "id": "58ac11c1",
   "metadata": {},
   "outputs": [
    {
     "data": {
      "text/plain": [
       "0"
      ]
     },
     "execution_count": 23,
     "metadata": {},
     "output_type": "execute_result"
    }
   ],
   "source": [
    "# (b) (v + w) dot (v - w)\n",
    "unit_w = 1\n",
    "np.dot((unit_v + unit_w), (unit_v - unit_w))"
   ]
  },
  {
   "cell_type": "code",
   "execution_count": 24,
   "id": "d16712fa",
   "metadata": {},
   "outputs": [
    {
     "data": {
      "text/plain": [
       "-3"
      ]
     },
     "execution_count": 24,
     "metadata": {},
     "output_type": "execute_result"
    }
   ],
   "source": [
    "# (c) v - 2w and v + 2w\n",
    "w2 = (2 * unit_w)\n",
    "v1 = unit_v - w2\n",
    "v2 = unit_v + w2\n",
    "np.dot(v1, v2)"
   ]
  },
  {
   "cell_type": "code",
   "execution_count": null,
   "id": "ce3e33c1",
   "metadata": {},
   "outputs": [],
   "source": []
  },
  {
   "cell_type": "code",
   "execution_count": null,
   "id": "329238f2",
   "metadata": {},
   "outputs": [],
   "source": []
  }
 ],
 "metadata": {
  "kernelspec": {
   "display_name": "Python 3 (ipykernel)",
   "language": "python",
   "name": "python3"
  },
  "language_info": {
   "codemirror_mode": {
    "name": "ipython",
    "version": 3
   },
   "file_extension": ".py",
   "mimetype": "text/x-python",
   "name": "python",
   "nbconvert_exporter": "python",
   "pygments_lexer": "ipython3",
   "version": "3.12.3"
  }
 },
 "nbformat": 4,
 "nbformat_minor": 5
}
