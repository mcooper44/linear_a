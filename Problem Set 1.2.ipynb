{
 "cells": [
  {
   "cell_type": "code",
   "execution_count": 1,
   "id": "9a97014f",
   "metadata": {},
   "outputs": [],
   "source": [
    "import numpy as np\n",
    "import sympy"
   ]
  },
  {
   "cell_type": "markdown",
   "id": "9dc7dc82",
   "metadata": {},
   "source": [
    "1. calculate the dot products of \n",
    "$$ u \\cdot v \\ and \\ u \\cdot w \\ and \\ u \\cdot (v + w) \\ and \\ w \\cdot v $$"
   ]
  },
  {
   "cell_type": "code",
   "execution_count": 2,
   "id": "3ae8b901",
   "metadata": {},
   "outputs": [],
   "source": [
    "u = np.array([-0.6,0.8])\n",
    "v = np.array([4,3])\n",
    "w = np.array([1,2])"
   ]
  },
  {
   "cell_type": "code",
   "execution_count": null,
   "id": "b2e31f6b",
   "metadata": {},
   "outputs": [],
   "source": [
    "x = -.6 * 4\n",
    "y = .8 * 3\n",
    "x,round(y,1)"
   ]
  },
  {
   "cell_type": "code",
   "execution_count": null,
   "id": "8cbea881",
   "metadata": {},
   "outputs": [],
   "source": [
    "a = u.dot(v)\n",
    "b = u.dot(w)\n",
    "c = u.dot((v+w))\n",
    "d = w.dot(v)"
   ]
  },
  {
   "cell_type": "code",
   "execution_count": null,
   "id": "4f7ef816",
   "metadata": {},
   "outputs": [],
   "source": [
    "print(f'{round(a,1)}\\n{b}\\n{c}\\n{d}\\n')"
   ]
  },
  {
   "cell_type": "markdown",
   "id": "7ccb14b3",
   "metadata": {},
   "source": [
    "2. compute the lengths of u and v and w of those vectors.  Check the schwarz inequalites  \n",
    "$$ |u \\cdot v| \\leq \\parallel{u}\\parallel \\parallel{v}\\parallel \\ and \\ |v \\cdot w| \\leq \\parallel{v}\\parallel \\parallel{w}\\parallel $$"
   ]
  },
  {
   "cell_type": "code",
   "execution_count": null,
   "id": "29832411",
   "metadata": {},
   "outputs": [],
   "source": [
    "lu = np.linalg.norm(u)\n",
    "lv = np.linalg.norm(v)\n",
    "lw = np.linalg.norm(w)\n",
    "lv, lu, lw # norm of u = 5, v = 1 and w = 2.2"
   ]
  },
  {
   "cell_type": "code",
   "execution_count": null,
   "id": "1d63aa38",
   "metadata": {},
   "outputs": [],
   "source": [
    "left = np.abs(u.dot(v))\n",
    "right = np.linalg.norm(u) * np.linalg.norm(v)\n",
    "round(left,1), right # dot product of u and v <= norm of u * norm of v or 0 <= 5 * 1"
   ]
  },
  {
   "cell_type": "code",
   "execution_count": null,
   "id": "d126525f",
   "metadata": {},
   "outputs": [],
   "source": [
    "left <= right"
   ]
  },
  {
   "cell_type": "code",
   "execution_count": null,
   "id": "6d3601c5",
   "metadata": {},
   "outputs": [],
   "source": [
    "left2 = v.dot(w)\n",
    "right2 = lv * lw\n",
    "left2, right2"
   ]
  },
  {
   "cell_type": "code",
   "execution_count": null,
   "id": "e4a26a1c",
   "metadata": {},
   "outputs": [],
   "source": [
    "left2 <= right2"
   ]
  },
  {
   "cell_type": "markdown",
   "id": "d9826678",
   "metadata": {},
   "source": [
    "3. Find unit vectors in the directions of v and w in Problem 1, and the cosine of the angle theta\n",
    "Choose vectors a, b, c that make 0, 90 and 180 degree angles with w."
   ]
  },
  {
   "cell_type": "code",
   "execution_count": 3,
   "id": "96bbbebb",
   "metadata": {},
   "outputs": [
    {
     "data": {
      "text/plain": [
       "(array([4, 3]), array([1, 2]))"
      ]
     },
     "execution_count": 3,
     "metadata": {},
     "output_type": "execute_result"
    }
   ],
   "source": [
    "v, w"
   ]
  },
  {
   "cell_type": "code",
   "execution_count": 4,
   "id": "493c343b",
   "metadata": {},
   "outputs": [
    {
     "data": {
      "text/plain": [
       "(array([0.8, 0.6]), array([0.4472136 , 0.89442719]))"
      ]
     },
     "execution_count": 4,
     "metadata": {},
     "output_type": "execute_result"
    }
   ],
   "source": [
    "v_unit = v / np.linalg.norm(v) # unit vector v\n",
    "w_unit = w / np.linalg.norm(w) # unit vector w\n",
    "v_unit, w_unit"
   ]
  },
  {
   "cell_type": "code",
   "execution_count": 10,
   "id": "f4184eee",
   "metadata": {},
   "outputs": [
    {
     "data": {
      "text/plain": [
       "0.8944271909999157"
      ]
     },
     "execution_count": 10,
     "metadata": {},
     "output_type": "execute_result"
    }
   ],
   "source": [
    "# cosine theta\n",
    "w_unit.dot(v_unit)"
   ]
  },
  {
   "cell_type": "code",
   "execution_count": 27,
   "id": "384bf40d",
   "metadata": {},
   "outputs": [
    {
     "data": {
      "text/plain": [
       "(0.0, 1.5707963267948966, 3.141592653589793)"
      ]
     },
     "execution_count": 27,
     "metadata": {},
     "output_type": "execute_result"
    }
   ],
   "source": [
    "# choose vectors a, b, c that make a 0, 90, 180 degree angle with w\n",
    "\n",
    "vec_a = w\n",
    "vec_b = np.array([2,-1])\n",
    "vec_c = w * -1\n",
    "angle_0 = np.arccos(np.clip(np.dot(w, vec_a), -1.0, 1.0))\n",
    "angle_90 = np.arccos(np.clip(np.dot(w, vec_b), -1.0, 1.0))\n",
    "angle_180 = np.arccos(np.clip(np.dot(w, vec_c), -1.0, 1.0))\n",
    "angle_0, angle_90, angle_180"
   ]
  },
  {
   "cell_type": "code",
   "execution_count": 26,
   "id": "f4273a8e",
   "metadata": {},
   "outputs": [
    {
     "data": {
      "text/plain": [
       "0.0"
      ]
     },
     "execution_count": 26,
     "metadata": {},
     "output_type": "execute_result"
    }
   ],
   "source": []
  },
  {
   "cell_type": "markdown",
   "id": "eef0d7fb",
   "metadata": {},
   "source": [
    "4. For any unit vectors v and w, find the dot products (actual numbers) of \n",
    "(a) v and -v     (b) v + w and v - w        (c)  v - 2w and v + 2w"
   ]
  },
  {
   "cell_type": "code",
   "execution_count": null,
   "id": "018d580d",
   "metadata": {},
   "outputs": [],
   "source": [
    "# (a)\n"
   ]
  }
 ],
 "metadata": {
  "kernelspec": {
   "display_name": "Python 3 (ipykernel)",
   "language": "python",
   "name": "python3"
  },
  "language_info": {
   "codemirror_mode": {
    "name": "ipython",
    "version": 3
   },
   "file_extension": ".py",
   "mimetype": "text/x-python",
   "name": "python",
   "nbconvert_exporter": "python",
   "pygments_lexer": "ipython3",
   "version": "3.12.3"
  }
 },
 "nbformat": 4,
 "nbformat_minor": 5
}
