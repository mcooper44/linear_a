{
 "cells": [
  {
   "cell_type": "code",
   "execution_count": null,
   "id": "9a97014f",
   "metadata": {},
   "outputs": [],
   "source": [
    "import numpy as np\n",
    "import matplotlib.pyplot as plt"
   ]
  },
  {
   "cell_type": "code",
   "execution_count": null,
   "id": "3ba14287",
   "metadata": {},
   "outputs": [],
   "source": [
    "%matplotlib notebook # magic for interactive plots"
   ]
  },
  {
   "cell_type": "markdown",
   "id": "9dc7dc82",
   "metadata": {},
   "source": [
    "1. calculate the dot products of \n",
    "$$ u \\cdot v \\ and \\ u \\cdot w \\ and \\ u \\cdot (v + w) \\ and \\ w \\cdot v $$"
   ]
  },
  {
   "cell_type": "code",
   "execution_count": null,
   "id": "3ae8b901",
   "metadata": {},
   "outputs": [],
   "source": [
    "u = np.array([-0.6,0.8])\n",
    "v = np.array([4,3])\n",
    "w = np.array([1,2])"
   ]
  },
  {
   "cell_type": "code",
   "execution_count": null,
   "id": "b2e31f6b",
   "metadata": {},
   "outputs": [],
   "source": [
    "x = -.6 * 4\n",
    "y = .8 * 3\n",
    "x,round(y,1)"
   ]
  },
  {
   "cell_type": "code",
   "execution_count": null,
   "id": "8cbea881",
   "metadata": {},
   "outputs": [],
   "source": [
    "a = u.dot(v)\n",
    "b = u.dot(w)\n",
    "c = u.dot((v+w))\n",
    "d = w.dot(v)"
   ]
  },
  {
   "cell_type": "code",
   "execution_count": null,
   "id": "4f7ef816",
   "metadata": {},
   "outputs": [],
   "source": [
    "print(f'{round(a,1)}\\n{b}\\n{c}\\n{d}\\n')"
   ]
  },
  {
   "cell_type": "markdown",
   "id": "7ccb14b3",
   "metadata": {},
   "source": [
    "2. compute the lengths of u and v and w of those vectors.  Check the schwarz inequalites  \n",
    "$$ |u \\cdot v| \\leq \\parallel{u}\\parallel \\parallel{v}\\parallel \\ and \\ |v \\cdot w| \\leq \\parallel{v}\\parallel \\parallel{w}\\parallel $$"
   ]
  },
  {
   "cell_type": "code",
   "execution_count": null,
   "id": "29832411",
   "metadata": {},
   "outputs": [],
   "source": [
    "lu = np.linalg.norm(u)\n",
    "lv = np.linalg.norm(v)\n",
    "lw = np.linalg.norm(w)\n",
    "lv, lu, lw # norm of u = 5, v = 1 and w = 2.2"
   ]
  },
  {
   "cell_type": "code",
   "execution_count": null,
   "id": "1d63aa38",
   "metadata": {},
   "outputs": [],
   "source": [
    "left = np.abs(u.dot(v))\n",
    "right = np.linalg.norm(u) * np.linalg.norm(v)\n",
    "round(left,1), right # dot product of u and v <= norm of u * norm of v or 0 <= 5 * 1"
   ]
  },
  {
   "cell_type": "code",
   "execution_count": null,
   "id": "d126525f",
   "metadata": {},
   "outputs": [],
   "source": [
    "left <= right"
   ]
  },
  {
   "cell_type": "code",
   "execution_count": null,
   "id": "6d3601c5",
   "metadata": {},
   "outputs": [],
   "source": [
    "left2 = v.dot(w)\n",
    "right2 = lv * lw\n",
    "left2, right2"
   ]
  },
  {
   "cell_type": "code",
   "execution_count": null,
   "id": "e4a26a1c",
   "metadata": {},
   "outputs": [],
   "source": [
    "left2 <= right2"
   ]
  },
  {
   "cell_type": "markdown",
   "id": "d9826678",
   "metadata": {},
   "source": [
    "3. Find unit vectors in the directions of v and w in Problem 1, and the cosine of the angle theta\n",
    "Choose vectors a, b, c that make 0, 90 and 180 degree angles with w."
   ]
  },
  {
   "cell_type": "code",
   "execution_count": null,
   "id": "96bbbebb",
   "metadata": {},
   "outputs": [],
   "source": [
    "v, w"
   ]
  },
  {
   "cell_type": "code",
   "execution_count": null,
   "id": "493c343b",
   "metadata": {},
   "outputs": [],
   "source": [
    "v_unit = v / np.linalg.norm(v) # unit vector v\n",
    "w_unit = w / np.linalg.norm(w) # unit vector w\n",
    "v_unit, w_unit"
   ]
  },
  {
   "cell_type": "code",
   "execution_count": null,
   "id": "f4184eee",
   "metadata": {},
   "outputs": [],
   "source": [
    "# cosine theta\n",
    "w_unit.dot(v_unit)"
   ]
  },
  {
   "cell_type": "code",
   "execution_count": null,
   "id": "384bf40d",
   "metadata": {},
   "outputs": [],
   "source": [
    "# choose vectors a, b, c that make a 0, 90, 180 degree angle with w\n",
    "vec_a = w # 0 degrees\n",
    "vec_b = np.array([2,-1]) # 90 degrees\n",
    "vec_c = w * -1 # 180 degrees\n",
    "angle_0 = np.arccos(np.clip(np.dot(w, vec_a), -1.0, 1.0))\n",
    "angle_90 = np.arccos(np.clip(np.dot(w, vec_b), -1.0, 1.0))\n",
    "angle_180 = np.arccos(np.clip(np.dot(w, vec_c), -1.0, 1.0))\n",
    "angle_0, np.rad2deg(angle_90), np.rad2deg(angle_180)"
   ]
  },
  {
   "cell_type": "code",
   "execution_count": null,
   "id": "14a63c1d",
   "metadata": {},
   "outputs": [],
   "source": [
    "fig, ax = plt.subplots()\n",
    "# Add the vector V to the plot\n",
    "ax.quiver(0, 0, w[0], w[1], angles='xy', scale_units='xy', scale=1, color='r')\n",
    "ax.quiver(0, 0, vec_b[0], vec_b[1], angles='xy', scale_units='xy', scale=1, color='b')\n",
    "ax.quiver(0, 0, vec_c[0], vec_c[1], angles='xy', scale_units='xy', scale=1, color='g')\n",
    "\n",
    "# Set the x-limits and y-limits of the plot\n",
    "ax.set_xlim([-4, 4])\n",
    "ax.set_ylim([-4, 4])\n",
    "\n",
    "# Show the plot along with the grid\n",
    "plt.grid()\n",
    "plt.show()"
   ]
  },
  {
   "cell_type": "markdown",
   "id": "eef0d7fb",
   "metadata": {},
   "source": [
    "4. For any unit vectors v and w, find the dot products (actual numbers) of \n",
    "(a) v and -v     (b) v + w and v - w        (c)  v - 2w and v + 2w"
   ]
  },
  {
   "cell_type": "code",
   "execution_count": null,
   "id": "018d580d",
   "metadata": {},
   "outputs": [],
   "source": [
    "# (a) v and -v\n",
    "unit_v = 1\n",
    "np.dot(unit_v, -unit_v)"
   ]
  },
  {
   "cell_type": "code",
   "execution_count": null,
   "id": "58ac11c1",
   "metadata": {},
   "outputs": [],
   "source": [
    "# (b) (v + w) dot (v - w)\n",
    "unit_w = 1\n",
    "np.dot((unit_v + unit_w), (unit_v - unit_w))"
   ]
  },
  {
   "cell_type": "code",
   "execution_count": null,
   "id": "d16712fa",
   "metadata": {},
   "outputs": [],
   "source": [
    "# (c) v - 2w and v + 2w\n",
    "w2 = (2 * unit_w)\n",
    "v1 = unit_v - w2\n",
    "v2 = unit_v + w2\n",
    "np.dot(v1, v2)"
   ]
  },
  {
   "cell_type": "markdown",
   "id": "64a56dee",
   "metadata": {},
   "source": [
    "5. Find unit vectors u_1 and u_2 in the directions of v = (1,3) and w = (2,1,2) Find unit vectors U_1 and U_2 that are perpendicular to u_1 and u_2."
   ]
  },
  {
   "cell_type": "code",
   "execution_count": null,
   "id": "329238f2",
   "metadata": {},
   "outputs": [],
   "source": [
    "v_ = np.array([1,3])\n",
    "w_ = np.array([2,1,2])"
   ]
  },
  {
   "cell_type": "code",
   "execution_count": null,
   "id": "c27ad0e6",
   "metadata": {},
   "outputs": [],
   "source": [
    "u1 = v_ / np.linalg.norm(v_)\n",
    "u2 = w_ / np.linalg.norm(w_)\n",
    "u1, u2"
   ]
  },
  {
   "cell_type": "code",
   "execution_count": null,
   "id": "8f9b22a6",
   "metadata": {},
   "outputs": [],
   "source": [
    "_U1 = np.array([3, -1])\n",
    "_U2 = np.array([1,-2,0])\n",
    "U1 = _U1 / np.linalg.norm(_U1)\n",
    "U2 = _U2 / np.linalg.norm(_U2)"
   ]
  },
  {
   "cell_type": "code",
   "execution_count": null,
   "id": "4e2df394",
   "metadata": {},
   "outputs": [],
   "source": [
    "from mpl_toolkits.mplot3d import Axes3D\n",
    "fig = plt.figure()\n",
    "ax = fig.add_subplot(111, projection='3d')\n",
    "\n",
    "# Add the vectors and unit vectors to plot\n",
    "ax.quiver(0, 0, 0, v_[0], v_[1], 0, color='r')\n",
    "ax.quiver(0, 0, 0, w_[0], w_[1], w_[2], color='y')\n",
    "ax.quiver(0, 0, 0, u1[0], u1[1], 0, color='k')\n",
    "ax.quiver(0, 0, 0, u2[0], u2[1], u2[2], color='b')\n",
    "# add U1 and U2\n",
    "ax.quiver(0, 0, 0, U1[0], U1[1], 0, color='b')\n",
    "ax.quiver(0, 0, 0, U2[0], U2[1], U2[2], color='b')\n",
    "\n",
    "# Set the x-limits and y-limits of the plot\n",
    "ax.set_xlim([-3, 3])\n",
    "ax.set_ylim([-3, 3])\n",
    "ax.set_zlim([-3, 3])\n",
    "\n",
    "# Show the plot along with the grid\n",
    "plt.grid()\n",
    "plt.show()"
   ]
  },
  {
   "cell_type": "code",
   "execution_count": null,
   "id": "750f219c",
   "metadata": {},
   "outputs": [],
   "source": []
  },
  {
   "cell_type": "code",
   "execution_count": null,
   "id": "42125054",
   "metadata": {},
   "outputs": [],
   "source": []
  }
 ],
 "metadata": {
  "kernelspec": {
   "display_name": "Python 3 (ipykernel)",
   "language": "python",
   "name": "python3"
  },
  "language_info": {
   "codemirror_mode": {
    "name": "ipython",
    "version": 3
   },
   "file_extension": ".py",
   "mimetype": "text/x-python",
   "name": "python",
   "nbconvert_exporter": "python",
   "pygments_lexer": "ipython3",
   "version": "3.12.3"
  }
 },
 "nbformat": 4,
 "nbformat_minor": 5
}
