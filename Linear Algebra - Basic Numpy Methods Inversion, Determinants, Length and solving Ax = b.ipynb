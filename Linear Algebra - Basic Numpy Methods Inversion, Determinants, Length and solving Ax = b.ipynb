{
 "cells": [
  {
   "cell_type": "code",
   "execution_count": 26,
   "id": "144def62",
   "metadata": {},
   "outputs": [],
   "source": [
    "import numpy as np"
   ]
  },
  {
   "cell_type": "code",
   "execution_count": 27,
   "id": "8eb7e570",
   "metadata": {},
   "outputs": [],
   "source": [
    "import math"
   ]
  },
  {
   "cell_type": "code",
   "execution_count": 2,
   "id": "6e2f78e7",
   "metadata": {},
   "outputs": [
    {
     "data": {
      "text/plain": [
       "array([[ 1,  3,  3],\n",
       "       [ 2,  6,  9],\n",
       "       [-1, -3,  3]])"
      ]
     },
     "execution_count": 2,
     "metadata": {},
     "output_type": "execute_result"
    }
   ],
   "source": [
    "A = np.array([[1,3,3],[2,6,9],[-1,-3,3]])\n",
    "A"
   ]
  },
  {
   "cell_type": "markdown",
   "id": "851ec1ca",
   "metadata": {},
   "source": [
    "#### Transpose"
   ]
  },
  {
   "cell_type": "code",
   "execution_count": 3,
   "id": "5a87716c",
   "metadata": {},
   "outputs": [
    {
     "data": {
      "text/plain": [
       "array([[ 1,  2, -1],\n",
       "       [ 3,  6, -3],\n",
       "       [ 3,  9,  3]])"
      ]
     },
     "execution_count": 3,
     "metadata": {},
     "output_type": "execute_result"
    }
   ],
   "source": [
    "A.T"
   ]
  },
  {
   "cell_type": "markdown",
   "id": "f5c45b4d",
   "metadata": {},
   "source": [
    "#### Access the shape, size and column"
   ]
  },
  {
   "cell_type": "code",
   "execution_count": null,
   "id": "ba70285b",
   "metadata": {},
   "outputs": [],
   "source": [
    "np.shape(A)"
   ]
  },
  {
   "cell_type": "code",
   "execution_count": null,
   "id": "ce2cc3e7",
   "metadata": {},
   "outputs": [],
   "source": [
    "A.size"
   ]
  },
  {
   "cell_type": "code",
   "execution_count": null,
   "id": "a608c96d",
   "metadata": {},
   "outputs": [],
   "source": [
    "A[:,1]"
   ]
  },
  {
   "cell_type": "markdown",
   "id": "a83ca458",
   "metadata": {},
   "source": [
    "#### Dot Product, Length and Unit Vectors"
   ]
  },
  {
   "cell_type": "markdown",
   "id": "f9ec3f0b",
   "metadata": {},
   "source": [
    "The dot product or inner product of v and w is \n",
    "$$ v = (v_1, v_2) \\ \\ w = (w_1, w_2) $$\n",
    "$$ v \\cdot w = v_1w_1 + v_2w_2 $$"
   ]
  },
  {
   "cell_type": "markdown",
   "id": "c087bfb5",
   "metadata": {},
   "source": [
    "The vectors v = (4,2) and w = (-1, 2) have zero dot product:"
   ]
  },
  {
   "cell_type": "markdown",
   "id": "0957f573",
   "metadata": {},
   "source": [
    "\n",
    "$$\\begin{bmatrix} 4 \\\\ 2 \\end{bmatrix} \\cdot \\begin{bmatrix} -1 \\\\ 2 \\end{bmatrix} = -4 + 4 = 0 $$\n"
   ]
  },
  {
   "cell_type": "markdown",
   "id": "50983a89",
   "metadata": {},
   "source": [
    "This means that these two vectors are perpendicular to eachother"
   ]
  },
  {
   "cell_type": "code",
   "execution_count": 31,
   "id": "632fc1b8",
   "metadata": {},
   "outputs": [
    {
     "data": {
      "text/plain": [
       "0"
      ]
     },
     "execution_count": 31,
     "metadata": {},
     "output_type": "execute_result"
    }
   ],
   "source": [
    "v = np.array([4,2])\n",
    "w = np.array([-1,2])\n",
    "np.vdot(v,w)"
   ]
  },
  {
   "cell_type": "code",
   "execution_count": null,
   "id": "ed17f560",
   "metadata": {},
   "outputs": [],
   "source": []
  },
  {
   "cell_type": "markdown",
   "id": "e0b087cb",
   "metadata": {},
   "source": [
    " The length ||v|| of a vector v is defined as\n",
    " $$ length = ||v|| = \\sqrt{v \\cdot v} = (v^2_1 + v^2_2 + \\cdot\\cdot\\cdot + v^2_n)^{1/2} $$"
   ]
  },
  {
   "cell_type": "code",
   "execution_count": 16,
   "id": "08b9dbe9",
   "metadata": {},
   "outputs": [
    {
     "data": {
      "text/plain": [
       "array([[1, 5, 5]])"
      ]
     },
     "execution_count": 16,
     "metadata": {},
     "output_type": "execute_result"
    }
   ],
   "source": [
    "b = np.array([[1,5,5]])\n",
    "b"
   ]
  },
  {
   "cell_type": "code",
   "execution_count": 17,
   "id": "d53aadfb",
   "metadata": {},
   "outputs": [
    {
     "data": {
      "text/plain": [
       "7.14142842854285"
      ]
     },
     "execution_count": 17,
     "metadata": {},
     "output_type": "execute_result"
    }
   ],
   "source": [
    "np.linalg.norm(b) # np uses the .linalg.norm method to find the length"
   ]
  },
  {
   "cell_type": "code",
   "execution_count": 32,
   "id": "c1e859f2",
   "metadata": {},
   "outputs": [
    {
     "data": {
      "text/plain": [
       "51"
      ]
     },
     "execution_count": 32,
     "metadata": {},
     "output_type": "execute_result"
    }
   ],
   "source": [
    "np.vdot(b,b) # for matrix multiplication use the .vdot method"
   ]
  },
  {
   "cell_type": "code",
   "execution_count": 28,
   "id": "9484e924",
   "metadata": {},
   "outputs": [
    {
     "data": {
      "text/plain": [
       "7.14142842854285"
      ]
     },
     "execution_count": 28,
     "metadata": {},
     "output_type": "execute_result"
    }
   ],
   "source": [
    "math.sqrt(51) # square root of the dot product of b"
   ]
  },
  {
   "cell_type": "markdown",
   "id": "93ad81b5",
   "metadata": {},
   "source": [
    "A unit vector u is a vector whose length equals one. Then \n",
    "$$ u = \\frac{v}{||v||} = 1 $$"
   ]
  },
  {
   "cell_type": "markdown",
   "id": "69b51fad",
   "metadata": {},
   "source": [
    "#### Matrices"
   ]
  },
  {
   "cell_type": "markdown",
   "id": "f34b1c38",
   "metadata": {},
   "source": [
    "$$ A = \\begin{bmatrix} 1 \\ \\ 2 \\\\ 3 \\ \\ 4 \\\\ 5 \\ \\ 6 \\end{bmatrix} is \\ a \\ 3 \\ by \\ 2 \\ matrix: \\ m \\ = \\ 3 \\ rows \\ and \\ n = 2 \\ columns$$\n"
   ]
  },
  {
   "cell_type": "markdown",
   "id": "d30c21ae",
   "metadata": {},
   "source": [
    "$$ Ax=\\begin{bmatrix} 1 \\ \\ 2 \\\\ 3 \\ \\ 4 \\\\ 5 \\ \\ 6 \\end{bmatrix}\\begin{bmatrix} x_1 \\\\ x_2 \\end{bmatrix} $$\n",
    "Is a combinations of the columns\n",
    "$$ Ax= x_1 \\begin{bmatrix} 1 \\\\ 3 \\\\ 5 \\end{bmatrix}+ x_2 \\begin{bmatrix} 2 \\\\ 4 \\\\ 6 \\end{bmatrix} $$"
   ]
  },
  {
   "cell_type": "markdown",
   "id": "89b036eb",
   "metadata": {},
   "source": [
    "The three components of Ax are dot products of the 3 rows of A with the vector x:\n",
    "$$ Row \\ at \\ a \\ time \\ \\ \\ \\ \\ \\begin{bmatrix} 1 \\ \\ 2 \\\\ 3 \\ \\ 4 \\\\ 5 \\ \\ 6 \\end{bmatrix}\\begin{bmatrix} 7 \\\\ 8 \\end{bmatrix} = \\begin{bmatrix} 1 \\cdot 7 + 2 \\cdot 8 \\\\ 3 \\cdot 7 + 4 \\cdot 8 \\\\ 5 \\cdot 7 + 6 \\cdot 8 \\end{bmatrix} = \\begin{bmatrix} 23 \\\\ 53 \\\\ 83 \\end{bmatrix}$$"
   ]
  },
  {
   "cell_type": "markdown",
   "id": "6310b08e",
   "metadata": {},
   "source": [
    "$$ Equations \\ in \\ matrix \\ form \\ Ax = b: \\begin{bmatrix} 2 \\ \\ 5 \\\\ 3 \\ \\ 7 \\end{bmatrix}\\begin{bmatrix} x_1 \\\\ x_2 \\end{bmatrix} = \\begin{bmatrix} b_1 \\\\ b_2 \\end{bmatrix} $$ replaces $$ 2x_1 + 5x_2 = b_1 $$ $$3x_1 + 7x_2 = b_2 $$ "
   ]
  },
  {
   "cell_type": "markdown",
   "id": "93506b87",
   "metadata": {},
   "source": [
    "$$ The \\ solution \\ to \\ Ax = b \\ can \\ be \\ written \\ as \\ x = A^{-1}b. But \\ some \\ matrices \\ don \\ not \\ allow \\ A^{-1} $$"
   ]
  },
  {
   "cell_type": "markdown",
   "id": "38291f70",
   "metadata": {},
   "source": [
    "### Solving Systems of Equations"
   ]
  },
  {
   "cell_type": "code",
   "execution_count": null,
   "id": "43f12fcb",
   "metadata": {},
   "outputs": [],
   "source": []
  },
  {
   "cell_type": "code",
   "execution_count": 21,
   "id": "a28454ce",
   "metadata": {},
   "outputs": [],
   "source": [
    "A2 = np.array([[1,3,3],[2,6,9],[0,5,1]])"
   ]
  },
  {
   "cell_type": "code",
   "execution_count": 22,
   "id": "4690446c",
   "metadata": {},
   "outputs": [],
   "source": [
    "b = np.array([[1,5,5]])"
   ]
  },
  {
   "cell_type": "code",
   "execution_count": 23,
   "id": "fe8f83f5",
   "metadata": {},
   "outputs": [
    {
     "data": {
      "text/plain": [
       "array([[1],\n",
       "       [5],\n",
       "       [5]])"
      ]
     },
     "execution_count": 23,
     "metadata": {},
     "output_type": "execute_result"
    }
   ],
   "source": [
    "b2 = np.transpose(b)\n",
    "b2"
   ]
  },
  {
   "cell_type": "code",
   "execution_count": 24,
   "id": "efd32066",
   "metadata": {},
   "outputs": [
    {
     "name": "stdout",
     "output_type": "stream",
     "text": [
      "x = -4.4 \n",
      "y = 0.8 \n",
      "z = 1.0\n"
     ]
    }
   ],
   "source": [
    "x,y,z = np.linalg.solve(A2,b2)\n",
    "print(f'x = {x[0]} \\ny = {y[0]} \\nz = {z[0]}')"
   ]
  },
  {
   "cell_type": "markdown",
   "id": "58206980",
   "metadata": {},
   "source": [
    "The inverse of a matrix is another matrix, which by multiplying with the given matrix gives the identity matrix. The inverse of a matrix is used of find the solution of linear equations through the matrix inversion method.  But not all matrix can be inverted.  A singular matrix is a square matrix who's determinant is zero."
   ]
  },
  {
   "cell_type": "code",
   "execution_count": 4,
   "id": "22350806",
   "metadata": {},
   "outputs": [
    {
     "name": "stdout",
     "output_type": "stream",
     "text": [
      "It is a Singular matrix\n"
     ]
    }
   ],
   "source": [
    "try:\n",
    "    np.linalg.inv(A)\n",
    "except Exception as e:\n",
    "    print(f'It is a {e}')"
   ]
  },
  {
   "cell_type": "markdown",
   "id": "4eaddf8a",
   "metadata": {},
   "source": [
    "#### Determinants"
   ]
  },
  {
   "cell_type": "markdown",
   "id": "ead3b5af",
   "metadata": {},
   "source": [
    "We know this because the determinant is zero"
   ]
  },
  {
   "cell_type": "code",
   "execution_count": 5,
   "id": "081581ee",
   "metadata": {},
   "outputs": [
    {
     "data": {
      "text/plain": [
       "0.0"
      ]
     },
     "execution_count": 5,
     "metadata": {},
     "output_type": "execute_result"
    }
   ],
   "source": [
    "np.linalg.det(A)"
   ]
  },
  {
   "cell_type": "markdown",
   "id": "1ccd63e4",
   "metadata": {},
   "source": [
    "The idea of the determinant is to get an indication of whether a system of equations has exactly one solution, or not. If the determinant is zero, then the system has no solutions, or many solutions. Otherwise, it has exactly one.\n",
    "\n",
    "The reason it works out this way is that the determinant formula is set up to give zero if the columns are not linearly independent. If the columns are not linearly independent, that means we don't have enough information to find a unique solution.\n",
    "\n",
    "Linear dependence between columns means that at least one of the columns is a linear combination of the others. This is a formal way of saying that one of the columns doesn't provide any new information because it's derived by adding together other columns (possibly after multiplying them by constants first.) "
   ]
  },
  {
   "cell_type": "code",
   "execution_count": 7,
   "id": "bf1301cc",
   "metadata": {},
   "outputs": [
    {
     "data": {
      "text/plain": [
       "-14.999999999999993"
      ]
     },
     "execution_count": 7,
     "metadata": {},
     "output_type": "execute_result"
    }
   ],
   "source": [
    "np.linalg.det(A2)"
   ]
  },
  {
   "cell_type": "code",
   "execution_count": 36,
   "id": "aab86901",
   "metadata": {},
   "outputs": [
    {
     "data": {
      "text/plain": [
       "array([[ 2.6       , -0.8       , -0.6       ],\n",
       "       [ 0.13333333, -0.06666667,  0.2       ],\n",
       "       [-0.66666667,  0.33333333, -0.        ]])"
      ]
     },
     "execution_count": 36,
     "metadata": {},
     "output_type": "execute_result"
    }
   ],
   "source": [
    "A2_inv = np.linalg.inv(A2)\n",
    "A2_inv"
   ]
  },
  {
   "cell_type": "code",
   "execution_count": 37,
   "id": "ea4dca4a",
   "metadata": {},
   "outputs": [
    {
     "data": {
      "text/plain": [
       "array([[1, 3, 3],\n",
       "       [2, 6, 9],\n",
       "       [0, 5, 1]])"
      ]
     },
     "execution_count": 37,
     "metadata": {},
     "output_type": "execute_result"
    }
   ],
   "source": [
    "A2"
   ]
  },
  {
   "cell_type": "code",
   "execution_count": 38,
   "id": "8ed8c4de",
   "metadata": {},
   "outputs": [
    {
     "data": {
      "text/plain": [
       "array([[1., 0., 0.],\n",
       "       [0., 1., 0.],\n",
       "       [0., 0., 1.]])"
      ]
     },
     "execution_count": 38,
     "metadata": {},
     "output_type": "execute_result"
    }
   ],
   "source": [
    "np.dot(A2, A2_inv)"
   ]
  },
  {
   "cell_type": "markdown",
   "id": "69795acb",
   "metadata": {},
   "source": [
    "However, order matters"
   ]
  },
  {
   "cell_type": "code",
   "execution_count": 40,
   "id": "95ace537",
   "metadata": {},
   "outputs": [
    {
     "data": {
      "text/plain": [
       "array([[ True, False, False],\n",
       "       [ True,  True, False],\n",
       "       [ True,  True,  True]])"
      ]
     },
     "execution_count": 40,
     "metadata": {},
     "output_type": "execute_result"
    }
   ],
   "source": [
    "np.dot(A2_inv, A2) == np.dot(A2, A2_inv)"
   ]
  },
  {
   "cell_type": "code",
   "execution_count": 15,
   "id": "2f87017f",
   "metadata": {},
   "outputs": [
    {
     "data": {
      "text/plain": [
       "(array([[4, 1],\n",
       "        [3, 1]]),\n",
       " array([[ 1, -1],\n",
       "        [-3,  4]]))"
      ]
     },
     "execution_count": 15,
     "metadata": {},
     "output_type": "execute_result"
    }
   ],
   "source": [
    "I = np.array([[4,1],[3,1]])\n",
    "I2 = np.array([[1,-1],[-3,4]]) # the inverse of I\n",
    "I, I2"
   ]
  },
  {
   "cell_type": "code",
   "execution_count": 11,
   "id": "318f34a6",
   "metadata": {},
   "outputs": [
    {
     "data": {
      "text/plain": [
       "array([[ 1., -1.],\n",
       "       [-3.,  4.]])"
      ]
     },
     "execution_count": 11,
     "metadata": {},
     "output_type": "execute_result"
    }
   ],
   "source": [
    "np.linalg.inv(I)"
   ]
  },
  {
   "cell_type": "code",
   "execution_count": 12,
   "id": "61ee2e5b",
   "metadata": {},
   "outputs": [
    {
     "data": {
      "text/plain": [
       "array([[1, 0],\n",
       "       [0, 1]])"
      ]
     },
     "execution_count": 12,
     "metadata": {},
     "output_type": "execute_result"
    }
   ],
   "source": [
    "np.dot(I, I2)"
   ]
  },
  {
   "cell_type": "code",
   "execution_count": 34,
   "id": "41114534",
   "metadata": {},
   "outputs": [
    {
     "data": {
      "text/plain": [
       "array([[ True,  True],\n",
       "       [ True,  True]])"
      ]
     },
     "execution_count": 34,
     "metadata": {},
     "output_type": "execute_result"
    }
   ],
   "source": [
    "np.dot(I, I2) == np.dot(I2, I)"
   ]
  },
  {
   "cell_type": "code",
   "execution_count": null,
   "id": "e3ee0967",
   "metadata": {},
   "outputs": [],
   "source": []
  },
  {
   "cell_type": "code",
   "execution_count": null,
   "id": "e5785887",
   "metadata": {},
   "outputs": [],
   "source": []
  },
  {
   "cell_type": "code",
   "execution_count": null,
   "id": "584ba7ba",
   "metadata": {},
   "outputs": [],
   "source": []
  },
  {
   "cell_type": "code",
   "execution_count": null,
   "id": "b8d77e9c",
   "metadata": {},
   "outputs": [],
   "source": []
  }
 ],
 "metadata": {
  "kernelspec": {
   "display_name": "Python 3 (ipykernel)",
   "language": "python",
   "name": "python3"
  },
  "language_info": {
   "codemirror_mode": {
    "name": "ipython",
    "version": 3
   },
   "file_extension": ".py",
   "mimetype": "text/x-python",
   "name": "python",
   "nbconvert_exporter": "python",
   "pygments_lexer": "ipython3",
   "version": "3.12.3"
  }
 },
 "nbformat": 4,
 "nbformat_minor": 5
}
