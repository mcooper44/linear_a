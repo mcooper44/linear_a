{
 "cells": [
  {
   "cell_type": "markdown",
   "id": "30cb75d3",
   "metadata": {},
   "source": [
    "### Vectors and Linear Combinations"
   ]
  },
  {
   "cell_type": "code",
   "execution_count": 1,
   "id": "2605737e",
   "metadata": {},
   "outputs": [],
   "source": [
    "import numpy as np\n",
    "import matplotlib.pyplot as plt"
   ]
  },
  {
   "cell_type": "code",
   "execution_count": 7,
   "id": "927823b6",
   "metadata": {},
   "outputs": [],
   "source": [
    "origin = np.array([[0, 0, 0],[0, 0, 0]])"
   ]
  },
  {
   "cell_type": "code",
   "execution_count": 8,
   "id": "49ab73b7",
   "metadata": {},
   "outputs": [
    {
     "data": {
      "text/plain": [
       "array([[ 1,  1],\n",
       "       [-2,  2],\n",
       "       [ 4, -7]])"
      ]
     },
     "execution_count": 8,
     "metadata": {},
     "output_type": "execute_result"
    }
   ],
   "source": [
    "V = np.array([[1,1], [-2,2], [4,-7]])\n",
    "V"
   ]
  },
  {
   "cell_type": "code",
   "execution_count": 9,
   "id": "2902a29f",
   "metadata": {},
   "outputs": [
    {
     "data": {
      "text/plain": [
       "array([ 1, -2,  4])"
      ]
     },
     "execution_count": 9,
     "metadata": {},
     "output_type": "execute_result"
    }
   ],
   "source": [
    "V[:,0]"
   ]
  },
  {
   "cell_type": "code",
   "execution_count": 12,
   "id": "360ea9a9",
   "metadata": {},
   "outputs": [
    {
     "data": {
      "image/png": "[encoded data removed]",
      "text/plain": [
       "<Figure size 640x480 with 1 Axes>"
      ]
     },
     "metadata": {},
     "output_type": "display_data"
    }
   ],
   "source": [
    "plt.grid(linewidth = 0.5)\n",
    "plt.quiver(*origin, V[:,0], V[:,1], color=['r','b', 'g'], scale=21)\n",
    "plt.xlim(-10, 10)\n",
    "plt.ylim(-10, 10)\n",
    "plt.show()"
   ]
  },
  {
   "cell_type": "code",
   "execution_count": null,
   "id": "048b23c5",
   "metadata": {},
   "outputs": [],
   "source": [
    "W = np.array([[-1,2],[4,2]])\n",
    "O = np.array([[0,0],[0,0]])\n",
    "plt.quiver(*O, W[:,0], W[:,1], color=['r', 'b', 'g'], scale=21)\n",
    "plt.legend(['V1', 'V2', 'V3'])\n",
    "plt.grid(b=True, which='major')\n",
    "plt.show()"
   ]
  },
  {
   "cell_type": "code",
   "execution_count": null,
   "id": "3b8ec57b",
   "metadata": {},
   "outputs": [],
   "source": []
  },
  {
   "cell_type": "code",
   "execution_count": null,
   "id": "91fcab0b",
   "metadata": {},
   "outputs": [],
   "source": [
    "W2 = W[0] + W[1]\n",
    "W2"
   ]
  },
  {
   "cell_type": "code",
   "execution_count": null,
   "id": "b00ead0d",
   "metadata": {},
   "outputs": [],
   "source": [
    "plt.quiver(*O, W[:,0], W[:,1], color=['r', 'b'], scale=21)\n",
    "plt.quiver(*O, W2[0], W2[1], color = ['g'], scale=21)\n",
    "plt.show()"
   ]
  },
  {
   "cell_type": "code",
   "execution_count": 3,
   "id": "9a10ff11",
   "metadata": {},
   "outputs": [],
   "source": []
  },
  {
   "cell_type": "code",
   "execution_count": 4,
   "id": "97d86cc7",
   "metadata": {},
   "outputs": [
    {
     "data": {
      "text/plain": [
       "4.440892098500626e-16"
      ]
     },
     "execution_count": 4,
     "metadata": {},
     "output_type": "execute_result"
    }
   ],
   "source": []
  },
  {
   "cell_type": "code",
   "execution_count": 5,
   "id": "257af71a",
   "metadata": {},
   "outputs": [
    {
     "data": {
      "text/plain": [
       "5"
      ]
     },
     "execution_count": 5,
     "metadata": {},
     "output_type": "execute_result"
    }
   ],
   "source": []
  },
  {
   "cell_type": "code",
   "execution_count": 6,
   "id": "15732ebc",
   "metadata": {},
   "outputs": [
    {
     "data": {
      "text/plain": [
       "1.0"
      ]
     },
     "execution_count": 6,
     "metadata": {},
     "output_type": "execute_result"
    }
   ],
   "source": []
  },
  {
   "cell_type": "code",
   "execution_count": 7,
   "id": "ed9d45fe",
   "metadata": {},
   "outputs": [
    {
     "data": {
      "text/plain": [
       "10"
      ]
     },
     "execution_count": 7,
     "metadata": {},
     "output_type": "execute_result"
    }
   ],
   "source": []
  },
  {
   "cell_type": "code",
   "execution_count": null,
   "id": "497e02ca",
   "metadata": {},
   "outputs": [],
   "source": []
  },
  {
   "cell_type": "code",
   "execution_count": null,
   "id": "4083b2d8",
   "metadata": {},
   "outputs": [],
   "source": []
  }
 ],
 "metadata": {
  "kernelspec": {
   "display_name": "Python 3 (ipykernel)",
   "language": "python",
   "name": "python3"
  },
  "language_info": {
   "codemirror_mode": {
    "name": "ipython",
    "version": 3
   },
   "file_extension": ".py",
   "mimetype": "text/x-python",
   "name": "python",
   "nbconvert_exporter": "python",
   "pygments_lexer": "ipython3",
   "version": "3.12.3"
  }
 },
 "nbformat": 4,
 "nbformat_minor": 5
}
